{
 "cells": [
  {
   "cell_type": "code",
   "execution_count": 19,
   "metadata": {},
   "outputs": [],
   "source": [
    "from pathlib import Path\n",
    "\n",
    "import pandas as pd\n",
    "import matplotlib\n",
    "import matplotlib.pyplot as plt\n",
    "import numpy as np\n",
    "from sklearn.manifold import TSNE"
   ]
  },
  {
   "cell_type": "code",
   "execution_count": 2,
   "metadata": {},
   "outputs": [],
   "source": [
    "def load_pokemon(filepath: Path) -> pd.DataFrame:\n",
    "    df = pd.read_csv(filepath)\n",
    "    df = pd.concat([\n",
    "        df,\n",
    "        pd.get_dummies(df[\"Type 1\"]),\n",
    "        pd.get_dummies(df[\"Type 2\"])\n",
    "    ], axis=1)\n",
    "    df.drop([\"#\"], axis=1, inplace=True)\n",
    "    df[\"Legendary\"] = df[\"Legendary\"].astype(int)\n",
    "    return df\n"
   ]
  },
  {
   "cell_type": "code",
   "execution_count": 29,
   "metadata": {},
   "outputs": [],
   "source": [
    "df = load_pokemon(Path(\"data/Pokemon.csv\"))\n",
    "names = df.Name.tolist()\n",
    "type1 = df[\"Type 1\"]\n",
    "type2 = df[\"Type 2\"]\n",
    "types = df[[\"Type 1\", \"Type 2\"]]\n",
    "df.drop([\"Type 1\", \"Type 2\"], axis=1, inplace=True)\n",
    "features = df.drop(\"Name\", axis=1).values.astype(np.float32)"
   ]
  },
  {
   "cell_type": "code",
   "execution_count": 35,
   "metadata": {},
   "outputs": [],
   "source": [
    "marker_maps = {\n",
    "    t: m\n",
    "    for m, t in zip(list(\".,ov^<>12348spP*hH\"), type1.unique())\n",
    "}"
   ]
  },
  {
   "cell_type": "code",
   "execution_count": 40,
   "metadata": {},
   "outputs": [],
   "source": [
    "color_maps = {\n",
    "    'Bug': \"limegreen\",\n",
    "    'Dark': \"black\",\n",
    "    'Dragon': \"crimson\",\n",
    "    'Electric': \"gold\",\n",
    "    'Fairy': \"hotpink\",\n",
    "    'Fighting': \"darkred\",\n",
    "    'Fire': \"red\",\n",
    "    'Flying': \"skyblue\",\n",
    "    'Ghost': \"midnightblue\",\n",
    "    'Grass': \"forestgreen\",\n",
    "    'Ground': \"lightcoral\",\n",
    "    'Ice': \"mintcream\",\n",
    "    'Normal': \"lightpink\",\n",
    "    'Poison': \"indigo\",\n",
    "    'Psychic': \"mediumpurple\",\n",
    "    'Rock': \"maroon\",\n",
    "    'Steel': \"lightgray\",\n",
    "    'Water': \"aqua\"\n",
    "}"
   ]
  },
  {
   "cell_type": "code",
   "execution_count": 36,
   "metadata": {},
   "outputs": [],
   "source": [
    "type_markers = type2.map(marker_maps).fillna(\"+\")\n",
    "type_colors = type1.map(color_maps)"
   ]
  },
  {
   "cell_type": "code",
   "execution_count": 44,
   "metadata": {},
   "outputs": [],
   "source": [
    "def min_max_scaler(x: np.ndarray) -> np.ndarray:\n",
    "    x_min = x.min(axis=0, keepdims=True)\n",
    "    x_max = x.max(axis=0, keepdims=True)\n",
    "    return (x - x_min) / (x_max - x_min)\n",
    "\n",
    "features = min_max_scaler(features)"
   ]
  },
  {
   "cell_type": "code",
   "execution_count": 45,
   "metadata": {},
   "outputs": [
    {
     "name": "stderr",
     "output_type": "stream",
     "text": [
      "/Users/wararaki/.pyenv/versions/3.8.5/lib/python3.8/site-packages/sklearn/manifold/_t_sne.py:795: FutureWarning: The default initialization in TSNE will change from 'random' to 'pca' in 1.2.\n",
      "  warnings.warn(\n",
      "/Users/wararaki/.pyenv/versions/3.8.5/lib/python3.8/site-packages/sklearn/manifold/_t_sne.py:805: FutureWarning: The default learning rate in TSNE will change from 200.0 to 'auto' in 1.2.\n",
      "  warnings.warn(\n"
     ]
    },
    {
     "data": {
      "text/plain": [
       "(800, 2)"
      ]
     },
     "execution_count": 45,
     "metadata": {},
     "output_type": "execute_result"
    }
   ],
   "source": [
    "X = TSNE(n_components=2).fit_transform(features)\n",
    "X.shape"
   ]
  },
  {
   "cell_type": "code",
   "execution_count": 46,
   "metadata": {},
   "outputs": [
    {
     "data": {
      "image/png": "[encoded data removed]",
      "text/plain": [
       "<Figure size 432x288 with 1 Axes>"
      ]
     },
     "metadata": {
      "needs_background": "light"
     },
     "output_type": "display_data"
    }
   ],
   "source": [
    "fig, ax = plt.subplots()\n",
    "x = X[:, 0]\n",
    "y = X[:, 1]\n",
    "\n",
    "for ct, cv in color_maps.items():\n",
    "    for mt, mv in marker_maps.items():\n",
    "        tmp = types[(types[\"Type 1\"]==ct)&(types[\"Type 2\"]==mt)]\n",
    "        if len(tmp) == 0:\n",
    "            continue\n",
    "        ax.scatter(x[tmp.index], y[tmp.index], c=cv, marker=mv)\n",
    "\n",
    "plt.show()"
   ]
  },
  {
   "cell_type": "code",
   "execution_count": null,
   "metadata": {},
   "outputs": [],
   "source": []
  }
 ],
 "metadata": {
  "kernelspec": {
   "display_name": "Python 3.8.5 64-bit ('3.8.5')",
   "language": "python",
   "name": "python3"
  },
  "language_info": {
   "codemirror_mode": {
    "name": "ipython",
    "version": 3
   },
   "file_extension": ".py",
   "mimetype": "text/x-python",
   "name": "python",
   "nbconvert_exporter": "python",
   "pygments_lexer": "ipython3",
   "version": "3.8.5"
  },
  "orig_nbformat": 4,
  "vscode": {
   "interpreter": {
    "hash": "d107a50fe049828e5706700ba5636e75caeb7d297fa9d76d681377c337d2391e"
   }
  }
 },
 "nbformat": 4,
 "nbformat_minor": 2
}
