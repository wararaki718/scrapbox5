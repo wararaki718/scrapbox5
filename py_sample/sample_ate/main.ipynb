{
 "cells": [
  {
   "cell_type": "code",
   "execution_count": 6,
   "metadata": {},
   "outputs": [],
   "source": [
    "import numpy as np\n",
    "import matplotlib.pyplot as plt\n",
    "import pandas as pd"
   ]
  },
  {
   "cell_type": "code",
   "execution_count": 3,
   "metadata": {},
   "outputs": [],
   "source": [
    "np.random.seed(0)"
   ]
  },
  {
   "cell_type": "code",
   "execution_count": 4,
   "metadata": {},
   "outputs": [],
   "source": [
    "n_data = 60"
   ]
  },
  {
   "cell_type": "code",
   "execution_count": 5,
   "metadata": {},
   "outputs": [],
   "source": [
    "# 学習意欲（X）\n",
    "X = np.random.uniform(0, 100, n_data)"
   ]
  },
  {
   "cell_type": "code",
   "execution_count": 10,
   "metadata": {},
   "outputs": [
    {
     "data": {
      "image/png": "[encoded data removed]",
      "text/plain": [
       "<Figure size 432x288 with 1 Axes>"
      ]
     },
     "metadata": {
      "needs_background": "light"
     },
     "output_type": "display_data"
    }
   ],
   "source": [
    "plt.hist(X)\n",
    "plt.show()"
   ]
  },
  {
   "cell_type": "code",
   "execution_count": 11,
   "metadata": {},
   "outputs": [],
   "source": [
    "# 特別講習の受講のフラグ（D）\n",
    "D_noise = np.random.uniform(-20, 20, n_data)\n",
    "D = np.where(X+D_noise > 50, 1, 0)"
   ]
  },
  {
   "cell_type": "code",
   "execution_count": 14,
   "metadata": {},
   "outputs": [
    {
     "data": {
      "image/png": "[encoded data removed]",
      "text/plain": [
       "<Figure size 432x288 with 1 Axes>"
      ]
     },
     "metadata": {
      "needs_background": "light"
     },
     "output_type": "display_data"
    }
   ],
   "source": [
    "plt.hist(D_noise)\n",
    "plt.show()"
   ]
  },
  {
   "cell_type": "code",
   "execution_count": 13,
   "metadata": {},
   "outputs": [
    {
     "data": {
      "text/plain": [
       "array([0, 1, 1, 0, 0, 1, 1, 1, 1, 0, 1, 1, 1, 1, 0, 0, 0, 1, 1, 1, 1, 1,\n",
       "       0, 1, 0, 1, 0, 1, 1, 1, 0, 1, 0, 1, 0, 0, 1, 0, 1, 0, 0, 0, 1, 0,\n",
       "       1, 1, 0, 0, 0, 1, 1, 1, 1, 0, 0, 0, 1, 0, 1, 0])"
      ]
     },
     "execution_count": 13,
     "metadata": {},
     "output_type": "execute_result"
    }
   ],
   "source": [
    "D # １：介入あり、２：介入なし"
   ]
  },
  {
   "cell_type": "code",
   "execution_count": 19,
   "metadata": {},
   "outputs": [],
   "source": [
    "# 試験の得点（Y）\n",
    "treatment = np.random.uniform(10, 30, n_data)\n",
    "Y_noise = np.random.normal(0, 10, n_data)\n",
    "Y = np.clip(0.5*X + treatment*D + Y_noise, 0, 100).astype(int)"
   ]
  },
  {
   "cell_type": "code",
   "execution_count": 20,
   "metadata": {},
   "outputs": [
    {
     "data": {
      "text/plain": [
       "array([38, 50, 52, 15, 16, 57, 44, 59, 76, 22, 43, 30, 57, 66,  0,  0,  0,\n",
       "       53, 44, 63, 73, 68, 32, 71,  5, 52,  5, 57, 45, 20, 16, 47, 31, 40,\n",
       "        1, 35, 49, 15, 57, 42,  0, 25, 30,  0, 56, 36,  0,  0, 32, 35, 49,\n",
       "       42, 60,  0,  7,  0, 62, 24, 62, 20])"
      ]
     },
     "execution_count": 20,
     "metadata": {},
     "output_type": "execute_result"
    }
   ],
   "source": [
    "Y"
   ]
  },
  {
   "cell_type": "code",
   "execution_count": 21,
   "metadata": {},
   "outputs": [],
   "source": [
    "# 介入なしのスコア\n",
    "Y_control = np.clip(0.5*X + Y_noise, 0, 100).astype(int)"
   ]
  },
  {
   "cell_type": "code",
   "execution_count": 22,
   "metadata": {},
   "outputs": [
    {
     "data": {
      "text/plain": [
       "array([38, 31, 23, 15, 16, 29, 18, 46, 53, 22, 31, 12, 42, 39,  0,  0,  0,\n",
       "       36, 34, 49, 55, 39, 32, 42,  5, 33,  5, 43, 23,  9, 16, 28, 31, 25,\n",
       "        1, 35, 37, 15, 45, 42,  0, 25, 12,  0, 33, 16,  0,  0, 32, 19, 34,\n",
       "       19, 45,  0,  7,  0, 41, 24, 37, 20])"
      ]
     },
     "execution_count": 22,
     "metadata": {},
     "output_type": "execute_result"
    }
   ],
   "source": [
    "Y_control"
   ]
  },
  {
   "cell_type": "code",
   "execution_count": 23,
   "metadata": {},
   "outputs": [],
   "source": [
    "# 介入ありのスコア\n",
    "Y_treatment = np.clip(0.5*X + treatment + Y_noise, 0, 100).astype(int)"
   ]
  },
  {
   "cell_type": "code",
   "execution_count": 24,
   "metadata": {},
   "outputs": [
    {
     "data": {
      "text/plain": [
       "array([65, 50, 52, 36, 43, 57, 44, 59, 76, 40, 43, 30, 57, 66,  7, 28,  0,\n",
       "       53, 44, 63, 73, 68, 44, 71, 33, 52, 21, 57, 45, 20, 26, 47, 42, 40,\n",
       "       15, 50, 49, 25, 57, 65, 30, 55, 30,  6, 56, 36, 30,  3, 57, 35, 49,\n",
       "       42, 60, 12, 27, 18, 62, 39, 62, 39])"
      ]
     },
     "execution_count": 24,
     "metadata": {},
     "output_type": "execute_result"
    }
   ],
   "source": [
    "Y_treatment"
   ]
  },
  {
   "cell_type": "code",
   "execution_count": 26,
   "metadata": {},
   "outputs": [],
   "source": [
    "df = pd.DataFrame({\n",
    "    \"学習意欲 X\": X,\n",
    "    \"介入フラグ D\": D,\n",
    "    \"得点 Y\": Y,\n",
    "    \"得点(介入あり) Y_treatment\": Y_treatment,\n",
    "    \"得点(介入なし) Y_control\": Y_control\n",
    "})"
   ]
  },
  {
   "cell_type": "code",
   "execution_count": 28,
   "metadata": {},
   "outputs": [
    {
     "data": {
      "text/html": [
       "<div>\n",
       "<style scoped>\n",
       "    .dataframe tbody tr th:only-of-type {\n",
       "        vertical-align: middle;\n",
       "    }\n",
       "\n",
       "    .dataframe tbody tr th {\n",
       "        vertical-align: top;\n",
       "    }\n",
       "\n",
       "    .dataframe thead th {\n",
       "        text-align: right;\n",
       "    }\n",
       "</style>\n",
       "<table border=\"1\" class=\"dataframe\">\n",
       "  <thead>\n",
       "    <tr style=\"text-align: right;\">\n",
       "      <th></th>\n",
       "      <th>学習意欲 X</th>\n",
       "      <th>介入フラグ D</th>\n",
       "      <th>得点 Y</th>\n",
       "      <th>得点(介入あり) Y_treatment</th>\n",
       "      <th>得点(介入なし) Y_control</th>\n",
       "    </tr>\n",
       "  </thead>\n",
       "  <tbody>\n",
       "    <tr>\n",
       "      <th>0</th>\n",
       "      <td>54.881350</td>\n",
       "      <td>0</td>\n",
       "      <td>38</td>\n",
       "      <td>65</td>\n",
       "      <td>38</td>\n",
       "    </tr>\n",
       "    <tr>\n",
       "      <th>1</th>\n",
       "      <td>71.518937</td>\n",
       "      <td>1</td>\n",
       "      <td>50</td>\n",
       "      <td>50</td>\n",
       "      <td>31</td>\n",
       "    </tr>\n",
       "    <tr>\n",
       "      <th>2</th>\n",
       "      <td>60.276338</td>\n",
       "      <td>1</td>\n",
       "      <td>52</td>\n",
       "      <td>52</td>\n",
       "      <td>23</td>\n",
       "    </tr>\n",
       "  </tbody>\n",
       "</table>\n",
       "</div>"
      ],
      "text/plain": [
       "      学習意欲 X  介入フラグ D  得点 Y  得点(介入あり) Y_treatment  得点(介入なし) Y_control\n",
       "0  54.881350        0    38                    65                  38\n",
       "1  71.518937        1    50                    50                  31\n",
       "2  60.276338        1    52                    52                  23"
      ]
     },
     "execution_count": 28,
     "metadata": {},
     "output_type": "execute_result"
    }
   ],
   "source": [
    "df.head(3)"
   ]
  },
  {
   "cell_type": "code",
   "execution_count": 29,
   "metadata": {},
   "outputs": [
    {
     "data": {
      "text/plain": [
       "1    33\n",
       "0    27\n",
       "Name: 介入フラグ D, dtype: int64"
      ]
     },
     "execution_count": 29,
     "metadata": {},
     "output_type": "execute_result"
    }
   ],
   "source": [
    "df[\"介入フラグ D\"].value_counts()"
   ]
  },
  {
   "cell_type": "code",
   "execution_count": 30,
   "metadata": {},
   "outputs": [
    {
     "data": {
      "text/html": [
       "<div>\n",
       "<style scoped>\n",
       "    .dataframe tbody tr th:only-of-type {\n",
       "        vertical-align: middle;\n",
       "    }\n",
       "\n",
       "    .dataframe tbody tr th {\n",
       "        vertical-align: top;\n",
       "    }\n",
       "\n",
       "    .dataframe thead th {\n",
       "        text-align: right;\n",
       "    }\n",
       "</style>\n",
       "<table border=\"1\" class=\"dataframe\">\n",
       "  <thead>\n",
       "    <tr style=\"text-align: right;\">\n",
       "      <th></th>\n",
       "      <th>学習意欲 X</th>\n",
       "      <th>介入フラグ D</th>\n",
       "      <th>得点 Y</th>\n",
       "      <th>得点(介入あり) Y_treatment</th>\n",
       "      <th>得点(介入なし) Y_control</th>\n",
       "    </tr>\n",
       "  </thead>\n",
       "  <tbody>\n",
       "    <tr>\n",
       "      <th>count</th>\n",
       "      <td>60.000000</td>\n",
       "      <td>60.000000</td>\n",
       "      <td>60.000000</td>\n",
       "      <td>60.000000</td>\n",
       "      <td>60.000000</td>\n",
       "    </tr>\n",
       "    <tr>\n",
       "      <th>mean</th>\n",
       "      <td>51.641326</td>\n",
       "      <td>0.550000</td>\n",
       "      <td>34.766667</td>\n",
       "      <td>42.683333</td>\n",
       "      <td>24.316667</td>\n",
       "    </tr>\n",
       "    <tr>\n",
       "      <th>std</th>\n",
       "      <td>27.672837</td>\n",
       "      <td>0.501692</td>\n",
       "      <td>23.150478</td>\n",
       "      <td>18.358475</td>\n",
       "      <td>15.964464</td>\n",
       "    </tr>\n",
       "    <tr>\n",
       "      <th>min</th>\n",
       "      <td>1.878980</td>\n",
       "      <td>0.000000</td>\n",
       "      <td>0.000000</td>\n",
       "      <td>0.000000</td>\n",
       "      <td>0.000000</td>\n",
       "    </tr>\n",
       "    <tr>\n",
       "      <th>25%</th>\n",
       "      <td>30.271017</td>\n",
       "      <td>0.000000</td>\n",
       "      <td>15.750000</td>\n",
       "      <td>30.000000</td>\n",
       "      <td>12.000000</td>\n",
       "    </tr>\n",
       "    <tr>\n",
       "      <th>50%</th>\n",
       "      <td>54.684834</td>\n",
       "      <td>1.000000</td>\n",
       "      <td>37.000000</td>\n",
       "      <td>44.000000</td>\n",
       "      <td>25.000000</td>\n",
       "    </tr>\n",
       "    <tr>\n",
       "      <th>75%</th>\n",
       "      <td>70.202074</td>\n",
       "      <td>1.000000</td>\n",
       "      <td>53.750000</td>\n",
       "      <td>57.000000</td>\n",
       "      <td>37.000000</td>\n",
       "    </tr>\n",
       "    <tr>\n",
       "      <th>max</th>\n",
       "      <td>98.837384</td>\n",
       "      <td>1.000000</td>\n",
       "      <td>76.000000</td>\n",
       "      <td>76.000000</td>\n",
       "      <td>55.000000</td>\n",
       "    </tr>\n",
       "  </tbody>\n",
       "</table>\n",
       "</div>"
      ],
      "text/plain": [
       "          学習意欲 X    介入フラグ D       得点 Y  得点(介入あり) Y_treatment  \\\n",
       "count  60.000000  60.000000  60.000000             60.000000   \n",
       "mean   51.641326   0.550000  34.766667             42.683333   \n",
       "std    27.672837   0.501692  23.150478             18.358475   \n",
       "min     1.878980   0.000000   0.000000              0.000000   \n",
       "25%    30.271017   0.000000  15.750000             30.000000   \n",
       "50%    54.684834   1.000000  37.000000             44.000000   \n",
       "75%    70.202074   1.000000  53.750000             57.000000   \n",
       "max    98.837384   1.000000  76.000000             76.000000   \n",
       "\n",
       "       得点(介入なし) Y_control  \n",
       "count           60.000000  \n",
       "mean            24.316667  \n",
       "std             15.964464  \n",
       "min              0.000000  \n",
       "25%             12.000000  \n",
       "50%             25.000000  \n",
       "75%             37.000000  \n",
       "max             55.000000  "
      ]
     },
     "execution_count": 30,
     "metadata": {},
     "output_type": "execute_result"
    }
   ],
   "source": [
    "df.describe()"
   ]
  },
  {
   "cell_type": "code",
   "execution_count": 35,
   "metadata": {},
   "outputs": [
    {
     "data": {
      "image/png": "[encoded data removed]",
      "text/plain": [
       "<Figure size 576x432 with 4 Axes>"
      ]
     },
     "metadata": {
      "needs_background": "light"
     },
     "output_type": "display_data"
    }
   ],
   "source": [
    "df[\n",
    "    [\n",
    "        \"学習意欲 X\",\n",
    "        \"得点 Y\",\n",
    "        \"得点(介入あり) Y_treatment\",\n",
    "        \"得点(介入なし) Y_control\"\n",
    "    ]\n",
    "].rename(columns={\n",
    "    \"学習意欲 X\": \"X\",\n",
    "    \"得点 Y\": \"Y\",\n",
    "    \"得点(介入あり) Y_treatment\": \"Y_treatment\",\n",
    "    \"得点(介入なし) Y_control\": \"Y_control\"\n",
    "}).hist(figsize=(8, 6), sharex=True, sharey=True)\n",
    "plt.xticks(np.arange(0, 110, 20))\n",
    "plt.yticks(np.arange(0, 16, 3))\n",
    "plt.show()"
   ]
  },
  {
   "cell_type": "markdown",
   "metadata": {},
   "source": [
    "学習意欲 $ X $ と試験の成績 $ Y $ の分布が似ていることから\n",
    "\n",
    "$ Y_{control} \\leq Y \\leq Y_{treatment} $\n",
    "\n",
    "の傾向が見える。"
   ]
  },
  {
   "cell_type": "code",
   "execution_count": null,
   "metadata": {},
   "outputs": [],
   "source": []
  }
 ],
 "metadata": {
  "kernelspec": {
   "display_name": "Python 3.8.5 64-bit ('3.8.5')",
   "language": "python",
   "name": "python3"
  },
  "language_info": {
   "codemirror_mode": {
    "name": "ipython",
    "version": 3
   },
   "file_extension": ".py",
   "mimetype": "text/x-python",
   "name": "python",
   "nbconvert_exporter": "python",
   "pygments_lexer": "ipython3",
   "version": "3.8.5"
  },
  "orig_nbformat": 4,
  "vscode": {
   "interpreter": {
    "hash": "d107a50fe049828e5706700ba5636e75caeb7d297fa9d76d681377c337d2391e"
   }
  }
 },
 "nbformat": 4,
 "nbformat_minor": 2
}
